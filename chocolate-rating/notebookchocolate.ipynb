{
  "metadata": {
    "kernelspec": {
      "language": "python",
      "display_name": "Python 3",
      "name": "python3"
    },
    "language_info": {
      "name": "python",
      "version": "3.11.11",
      "mimetype": "text/x-python",
      "codemirror_mode": {
        "name": "ipython",
        "version": 3
      },
      "pygments_lexer": "ipython3",
      "nbconvert_exporter": "python",
      "file_extension": ".py"
    },
    "kaggle": {
      "accelerator": "none",
      "dataSources": [
        {
          "sourceId": 88944,
          "databundleVersionId": 10212782,
          "sourceType": "competition"
        }
      ],
      "dockerImageVersionId": 31012,
      "isInternetEnabled": false,
      "language": "python",
      "sourceType": "notebook",
      "isGpuEnabled": false
    },
    "colab": {
      "provenance": []
    }
  },
  "nbformat_minor": 0,
  "nbformat": 4,
  "cells": [
    {
      "cell_type": "markdown",
      "source": [
        " # Описание"
      ],
      "metadata": {
        "id": "4-Y4wiV7e_CQ"
      }
    },
    {
      "cell_type": "markdown",
      "source": [
        "В датасете содержится информация о более чем 1700 шоколадках. В датасете представлена информация о темном шоколаде.\n",
        "\n",
        "Система рейтинга шоколада:\n",
        "5 = Элита\n",
        "4 = Премиум\n",
        "3 = Удовлетворительно (3.0) до похвалы (3.75)\n",
        "2 = Разочаровывающе\n",
        "1 = Неприятно\n",
        "\n",
        "Для получения рейтинга каждой шоколадки оцениваются все ее характеристики.\n",
        "\n",
        "Ваша задача - по характеристикам шоколадки научиться предсказывать ее рейтинг без округлений (то есть если рейтинг 3.75 - хорошая модель должна предсказать 3.75).\n",
        "\n",
        "Рейтинги были собраны Брэди Брелински, членом-основателем Манхэттенского шоколадного общества.\n",
        "\n",
        "\n",
        "\n",
        "\n",
        "Никнейм: Marat Ramazanov"
      ],
      "metadata": {
        "id": "AkCWvtsPe5ti"
      }
    },
    {
      "cell_type": "markdown",
      "source": [
        "# Решение"
      ],
      "metadata": {
        "id": "PHt-JbhYe7TB"
      }
    },
    {
      "cell_type": "code",
      "source": [
        "import numpy as np # linear algebra\n",
        "import pandas as pd # data processing, CSV file I/O (e.g. pd.read_csv)\n",
        "\n",
        "TRAIN = '/kaggle/input/chocolate-rating-prediction-ai-edu/chocolate_train.csv'\n",
        "TEST = '/kaggle/input/chocolate-rating-prediction-ai-edu/chocolate_test_new.csv'\n",
        "\n",
        "\n",
        "train = pd.read_csv(TRAIN)\n",
        "test = pd.read_csv(TEST)"
      ],
      "metadata": {
        "_uuid": "8f2839f25d086af736a60e9eeb907d3b93b6e0e5",
        "_cell_guid": "b1076dfc-b9ad-4769-8c92-a6c4dae69d19",
        "trusted": true,
        "execution": {
          "iopub.status.busy": "2025-04-18T19:49:01.912409Z",
          "iopub.execute_input": "2025-04-18T19:49:01.912709Z",
          "iopub.status.idle": "2025-04-18T19:49:02.335490Z",
          "shell.execute_reply.started": "2025-04-18T19:49:01.912688Z",
          "shell.execute_reply": "2025-04-18T19:49:02.334494Z"
        },
        "id": "WVXU1mYMenhd"
      },
      "outputs": [],
      "execution_count": null
    },
    {
      "cell_type": "code",
      "source": [
        "train"
      ],
      "metadata": {
        "trusted": true,
        "execution": {
          "iopub.status.busy": "2025-04-18T19:49:03.964782Z",
          "iopub.execute_input": "2025-04-18T19:49:03.965251Z",
          "iopub.status.idle": "2025-04-18T19:49:03.984405Z",
          "shell.execute_reply.started": "2025-04-18T19:49:03.965225Z",
          "shell.execute_reply": "2025-04-18T19:49:03.983514Z"
        },
        "id": "g-2YQO8qenhe",
        "outputId": "2dc0a855-7b6b-412f-d224-2613fb4a1b22"
      },
      "outputs": [
        {
          "execution_count": 2,
          "output_type": "execute_result",
          "data": {
            "text/plain": "                           Company                Specific Bean Origin   REF  \\\n0                   Willie's Cacao                          Rio Caribe   457   \n1               Beschle (Felchlin)  Ocumare, Premier Cru, Quizas No. 2   508   \n2                      Dark Forest                            Tanzania  1554   \n3     Brasstown aka It's Chocolate                          Cooproagro  1125   \n4                           Pralus                     Java, Indonesie    32   \n...                            ...                                 ...   ...   \n1250           Artisan du Chocolat                          Madagascar   363   \n1251                        Marana                               Cusco  1884   \n1252                         Arete                            Nacional  1534   \n1253                        Fresco              Conacado, #212, LR, SC   642   \n1254                         Zak's                 Madagascar, Batch 2  1578   \n\n      Review Cocoa Percent Company Location  Rating             Bean Type  \\\n0       2009           72%             U.K.    3.25            Trinitario   \n1       2010           72%      Switzerland    3.50                         \n2       2015           70%           U.S.A.    3.00                         \n3       2013           72%           U.S.A.    3.00            Trinitario   \n4       2006           75%           France    3.50               Criollo   \n...      ...           ...              ...     ...                   ...   \n1250    2009           80%             U.K.    3.00   Criollo, Trinitario   \n1251    2016           70%             Peru    2.75                         \n1252    2015           68%           U.S.A.    3.50  Forastero (Nacional)   \n1253    2011           72%           U.S.A.    3.50                         \n1254    2015           70%           U.S.A.    3.25            Trinitario   \n\n       Broad Bean Origin  \n0              Venezuela  \n1              Venezuela  \n2               Tanzania  \n3     Dominican Republic  \n4              Indonesia  \n...                  ...  \n1250          Madagascar  \n1251                Peru  \n1252                Peru  \n1253  Dominican Republic  \n1254          Madagascar  \n\n[1255 rows x 9 columns]",
            "text/html": "<div>\n<style scoped>\n    .dataframe tbody tr th:only-of-type {\n        vertical-align: middle;\n    }\n\n    .dataframe tbody tr th {\n        vertical-align: top;\n    }\n\n    .dataframe thead th {\n        text-align: right;\n    }\n</style>\n<table border=\"1\" class=\"dataframe\">\n  <thead>\n    <tr style=\"text-align: right;\">\n      <th></th>\n      <th>Company</th>\n      <th>Specific Bean Origin</th>\n      <th>REF</th>\n      <th>Review</th>\n      <th>Cocoa Percent</th>\n      <th>Company Location</th>\n      <th>Rating</th>\n      <th>Bean Type</th>\n      <th>Broad Bean Origin</th>\n    </tr>\n  </thead>\n  <tbody>\n    <tr>\n      <th>0</th>\n      <td>Willie's Cacao</td>\n      <td>Rio Caribe</td>\n      <td>457</td>\n      <td>2009</td>\n      <td>72%</td>\n      <td>U.K.</td>\n      <td>3.25</td>\n      <td>Trinitario</td>\n      <td>Venezuela</td>\n    </tr>\n    <tr>\n      <th>1</th>\n      <td>Beschle (Felchlin)</td>\n      <td>Ocumare, Premier Cru, Quizas No. 2</td>\n      <td>508</td>\n      <td>2010</td>\n      <td>72%</td>\n      <td>Switzerland</td>\n      <td>3.50</td>\n      <td></td>\n      <td>Venezuela</td>\n    </tr>\n    <tr>\n      <th>2</th>\n      <td>Dark Forest</td>\n      <td>Tanzania</td>\n      <td>1554</td>\n      <td>2015</td>\n      <td>70%</td>\n      <td>U.S.A.</td>\n      <td>3.00</td>\n      <td></td>\n      <td>Tanzania</td>\n    </tr>\n    <tr>\n      <th>3</th>\n      <td>Brasstown aka It's Chocolate</td>\n      <td>Cooproagro</td>\n      <td>1125</td>\n      <td>2013</td>\n      <td>72%</td>\n      <td>U.S.A.</td>\n      <td>3.00</td>\n      <td>Trinitario</td>\n      <td>Dominican Republic</td>\n    </tr>\n    <tr>\n      <th>4</th>\n      <td>Pralus</td>\n      <td>Java, Indonesie</td>\n      <td>32</td>\n      <td>2006</td>\n      <td>75%</td>\n      <td>France</td>\n      <td>3.50</td>\n      <td>Criollo</td>\n      <td>Indonesia</td>\n    </tr>\n    <tr>\n      <th>...</th>\n      <td>...</td>\n      <td>...</td>\n      <td>...</td>\n      <td>...</td>\n      <td>...</td>\n      <td>...</td>\n      <td>...</td>\n      <td>...</td>\n      <td>...</td>\n    </tr>\n    <tr>\n      <th>1250</th>\n      <td>Artisan du Chocolat</td>\n      <td>Madagascar</td>\n      <td>363</td>\n      <td>2009</td>\n      <td>80%</td>\n      <td>U.K.</td>\n      <td>3.00</td>\n      <td>Criollo, Trinitario</td>\n      <td>Madagascar</td>\n    </tr>\n    <tr>\n      <th>1251</th>\n      <td>Marana</td>\n      <td>Cusco</td>\n      <td>1884</td>\n      <td>2016</td>\n      <td>70%</td>\n      <td>Peru</td>\n      <td>2.75</td>\n      <td></td>\n      <td>Peru</td>\n    </tr>\n    <tr>\n      <th>1252</th>\n      <td>Arete</td>\n      <td>Nacional</td>\n      <td>1534</td>\n      <td>2015</td>\n      <td>68%</td>\n      <td>U.S.A.</td>\n      <td>3.50</td>\n      <td>Forastero (Nacional)</td>\n      <td>Peru</td>\n    </tr>\n    <tr>\n      <th>1253</th>\n      <td>Fresco</td>\n      <td>Conacado, #212, LR, SC</td>\n      <td>642</td>\n      <td>2011</td>\n      <td>72%</td>\n      <td>U.S.A.</td>\n      <td>3.50</td>\n      <td></td>\n      <td>Dominican Republic</td>\n    </tr>\n    <tr>\n      <th>1254</th>\n      <td>Zak's</td>\n      <td>Madagascar, Batch 2</td>\n      <td>1578</td>\n      <td>2015</td>\n      <td>70%</td>\n      <td>U.S.A.</td>\n      <td>3.25</td>\n      <td>Trinitario</td>\n      <td>Madagascar</td>\n    </tr>\n  </tbody>\n</table>\n<p>1255 rows × 9 columns</p>\n</div>"
          },
          "metadata": {}
        }
      ],
      "execution_count": null
    },
    {
      "cell_type": "code",
      "source": [
        "def info_about_dataset(dataset: pd.DataFrame):\n",
        "    for column in dataset.columns:\n",
        "        print(column)\n",
        "        print('Dtype:', dataset[column].dtype)\n",
        "        if dataset[column].dtype == 'object':\n",
        "            print('Num of occur once:', (dataset[column].value_counts() == 1).sum())\n",
        "        print('NA values:', dataset[column].isna().sum())\n",
        "        print('Unique values:', len(dataset[column].unique()))\n",
        "        print('-'*50)\n"
      ],
      "metadata": {
        "trusted": true,
        "execution": {
          "iopub.status.busy": "2025-04-18T19:49:05.267608Z",
          "iopub.execute_input": "2025-04-18T19:49:05.268211Z",
          "iopub.status.idle": "2025-04-18T19:49:05.273762Z",
          "shell.execute_reply.started": "2025-04-18T19:49:05.268184Z",
          "shell.execute_reply": "2025-04-18T19:49:05.272818Z"
        },
        "id": "fWmaQRRuenhe"
      },
      "outputs": [],
      "execution_count": null
    },
    {
      "cell_type": "code",
      "source": [
        "info_about_dataset(train)"
      ],
      "metadata": {
        "trusted": true,
        "id": "wiGwJB4fenhe"
      },
      "outputs": [],
      "execution_count": null
    },
    {
      "cell_type": "code",
      "source": [
        "info_about_dataset(test)"
      ],
      "metadata": {
        "trusted": true,
        "id": "nsRcnu9henhe"
      },
      "outputs": [],
      "execution_count": null
    },
    {
      "cell_type": "code",
      "source": [
        "test.describe(include='object')"
      ],
      "metadata": {
        "trusted": true,
        "id": "hOBglqYDenhe"
      },
      "outputs": [],
      "execution_count": null
    },
    {
      "cell_type": "markdown",
      "source": [
        "# Conslusions:\n",
        "1. The training dataset includes only 2 unknown values. This object must be removed from the dataset\n",
        "2. The columns of the dataset \"Specific Bean Origin\", \"Company\" include 762 unique values (621 of them occur only 1 time). To improve the predictions of the model, it is worthwhile to apply geographic scaling of the feature.\n",
        "3. The columns \"Company\", \"Specific Bean Origin\", \"Cocoa Percent\", \"Company Location\", \"Bean Type\" and \"Broad Bean Origin\" need to be converted to numerical form, as they have an object type."
      ],
      "metadata": {
        "id": "hmNDNKySenhe"
      }
    },
    {
      "cell_type": "markdown",
      "source": [
        "# drop na-values:"
      ],
      "metadata": {
        "id": "qa9SZHd1enhf"
      }
    },
    {
      "cell_type": "code",
      "source": [
        "train.dropna(inplace=True)\n",
        "train"
      ],
      "metadata": {
        "trusted": true,
        "execution": {
          "iopub.status.busy": "2025-04-18T19:49:08.313707Z",
          "iopub.execute_input": "2025-04-18T19:49:08.314063Z",
          "iopub.status.idle": "2025-04-18T19:49:08.331387Z",
          "shell.execute_reply.started": "2025-04-18T19:49:08.314028Z",
          "shell.execute_reply": "2025-04-18T19:49:08.330353Z"
        },
        "id": "_mOJ_RQwenhf",
        "outputId": "90ef2f4a-7aa8-45f5-d1e1-a20a04aa81a4"
      },
      "outputs": [
        {
          "execution_count": 4,
          "output_type": "execute_result",
          "data": {
            "text/plain": "                           Company                Specific Bean Origin   REF  \\\n0                   Willie's Cacao                          Rio Caribe   457   \n1               Beschle (Felchlin)  Ocumare, Premier Cru, Quizas No. 2   508   \n2                      Dark Forest                            Tanzania  1554   \n3     Brasstown aka It's Chocolate                          Cooproagro  1125   \n4                           Pralus                     Java, Indonesie    32   \n...                            ...                                 ...   ...   \n1250           Artisan du Chocolat                          Madagascar   363   \n1251                        Marana                               Cusco  1884   \n1252                         Arete                            Nacional  1534   \n1253                        Fresco              Conacado, #212, LR, SC   642   \n1254                         Zak's                 Madagascar, Batch 2  1578   \n\n      Review Cocoa Percent Company Location  Rating             Bean Type  \\\n0       2009           72%             U.K.    3.25            Trinitario   \n1       2010           72%      Switzerland    3.50                         \n2       2015           70%           U.S.A.    3.00                         \n3       2013           72%           U.S.A.    3.00            Trinitario   \n4       2006           75%           France    3.50               Criollo   \n...      ...           ...              ...     ...                   ...   \n1250    2009           80%             U.K.    3.00   Criollo, Trinitario   \n1251    2016           70%             Peru    2.75                         \n1252    2015           68%           U.S.A.    3.50  Forastero (Nacional)   \n1253    2011           72%           U.S.A.    3.50                         \n1254    2015           70%           U.S.A.    3.25            Trinitario   \n\n       Broad Bean Origin  \n0              Venezuela  \n1              Venezuela  \n2               Tanzania  \n3     Dominican Republic  \n4              Indonesia  \n...                  ...  \n1250          Madagascar  \n1251                Peru  \n1252                Peru  \n1253  Dominican Republic  \n1254          Madagascar  \n\n[1253 rows x 9 columns]",
            "text/html": "<div>\n<style scoped>\n    .dataframe tbody tr th:only-of-type {\n        vertical-align: middle;\n    }\n\n    .dataframe tbody tr th {\n        vertical-align: top;\n    }\n\n    .dataframe thead th {\n        text-align: right;\n    }\n</style>\n<table border=\"1\" class=\"dataframe\">\n  <thead>\n    <tr style=\"text-align: right;\">\n      <th></th>\n      <th>Company</th>\n      <th>Specific Bean Origin</th>\n      <th>REF</th>\n      <th>Review</th>\n      <th>Cocoa Percent</th>\n      <th>Company Location</th>\n      <th>Rating</th>\n      <th>Bean Type</th>\n      <th>Broad Bean Origin</th>\n    </tr>\n  </thead>\n  <tbody>\n    <tr>\n      <th>0</th>\n      <td>Willie's Cacao</td>\n      <td>Rio Caribe</td>\n      <td>457</td>\n      <td>2009</td>\n      <td>72%</td>\n      <td>U.K.</td>\n      <td>3.25</td>\n      <td>Trinitario</td>\n      <td>Venezuela</td>\n    </tr>\n    <tr>\n      <th>1</th>\n      <td>Beschle (Felchlin)</td>\n      <td>Ocumare, Premier Cru, Quizas No. 2</td>\n      <td>508</td>\n      <td>2010</td>\n      <td>72%</td>\n      <td>Switzerland</td>\n      <td>3.50</td>\n      <td></td>\n      <td>Venezuela</td>\n    </tr>\n    <tr>\n      <th>2</th>\n      <td>Dark Forest</td>\n      <td>Tanzania</td>\n      <td>1554</td>\n      <td>2015</td>\n      <td>70%</td>\n      <td>U.S.A.</td>\n      <td>3.00</td>\n      <td></td>\n      <td>Tanzania</td>\n    </tr>\n    <tr>\n      <th>3</th>\n      <td>Brasstown aka It's Chocolate</td>\n      <td>Cooproagro</td>\n      <td>1125</td>\n      <td>2013</td>\n      <td>72%</td>\n      <td>U.S.A.</td>\n      <td>3.00</td>\n      <td>Trinitario</td>\n      <td>Dominican Republic</td>\n    </tr>\n    <tr>\n      <th>4</th>\n      <td>Pralus</td>\n      <td>Java, Indonesie</td>\n      <td>32</td>\n      <td>2006</td>\n      <td>75%</td>\n      <td>France</td>\n      <td>3.50</td>\n      <td>Criollo</td>\n      <td>Indonesia</td>\n    </tr>\n    <tr>\n      <th>...</th>\n      <td>...</td>\n      <td>...</td>\n      <td>...</td>\n      <td>...</td>\n      <td>...</td>\n      <td>...</td>\n      <td>...</td>\n      <td>...</td>\n      <td>...</td>\n    </tr>\n    <tr>\n      <th>1250</th>\n      <td>Artisan du Chocolat</td>\n      <td>Madagascar</td>\n      <td>363</td>\n      <td>2009</td>\n      <td>80%</td>\n      <td>U.K.</td>\n      <td>3.00</td>\n      <td>Criollo, Trinitario</td>\n      <td>Madagascar</td>\n    </tr>\n    <tr>\n      <th>1251</th>\n      <td>Marana</td>\n      <td>Cusco</td>\n      <td>1884</td>\n      <td>2016</td>\n      <td>70%</td>\n      <td>Peru</td>\n      <td>2.75</td>\n      <td></td>\n      <td>Peru</td>\n    </tr>\n    <tr>\n      <th>1252</th>\n      <td>Arete</td>\n      <td>Nacional</td>\n      <td>1534</td>\n      <td>2015</td>\n      <td>68%</td>\n      <td>U.S.A.</td>\n      <td>3.50</td>\n      <td>Forastero (Nacional)</td>\n      <td>Peru</td>\n    </tr>\n    <tr>\n      <th>1253</th>\n      <td>Fresco</td>\n      <td>Conacado, #212, LR, SC</td>\n      <td>642</td>\n      <td>2011</td>\n      <td>72%</td>\n      <td>U.S.A.</td>\n      <td>3.50</td>\n      <td></td>\n      <td>Dominican Republic</td>\n    </tr>\n    <tr>\n      <th>1254</th>\n      <td>Zak's</td>\n      <td>Madagascar, Batch 2</td>\n      <td>1578</td>\n      <td>2015</td>\n      <td>70%</td>\n      <td>U.S.A.</td>\n      <td>3.25</td>\n      <td>Trinitario</td>\n      <td>Madagascar</td>\n    </tr>\n  </tbody>\n</table>\n<p>1253 rows × 9 columns</p>\n</div>"
          },
          "metadata": {}
        }
      ],
      "execution_count": null
    },
    {
      "cell_type": "markdown",
      "source": [
        "# mapping"
      ],
      "metadata": {
        "id": "KKpV6Sd5enhf"
      }
    },
    {
      "cell_type": "code",
      "source": [
        "def mapping_bean():\n",
        "    mapping_bean = {\n",
        "        'Trinitario' : ['Trinitario', 'Trinitario, Criollo', 'Trinitario, Forastero', 'Trinitario (Amelonado)', 'Trinitario, Nacional', 'Trinitario (85% Criollo)', 'Trinitario, TCGA', 'EET'],\n",
        "        'Criollo' : ['Criollo', 'Criollo, Trinitario', 'Criollo (Porcelana)', 'Criollo, Forastero', 'Criollo (Amarru)', 'Criollo (Ocumare 67)', 'Criollo (Ocumare 61)', 'Criollo (Wild)', 'Criollo, +', 'Criollo (Ocumare)', 'Criollo (Ocumare 77)'],\n",
        "        'Forastero' : ['Forastero', 'Forastero (Nacional)', 'Forastero (Arriba)', 'Forastero (Parazinho)', 'Forastero (Arriba) ASS', 'Forastero (Catongo)', 'Forastero(Arriba, CCN)', 'Forastero (Arriba) ASSS', 'Forastero, Trinitario'],\n",
        "        'Blend' : ['Blend', 'Blend-Forastero,Criollo'],\n",
        "        'Nacional' : ['Nacional','Nacional (Arriba)'],\n",
        "        'Amazon' : ['Amazon','Amazon mix', 'Amazon, ICS'],\n",
        "        'Matina' : ['Matina']\n",
        "    }\n",
        "\n",
        "    reverse_mapping = {}\n",
        "    for key, values in mapping_bean.items():\n",
        "        for value in values:\n",
        "            reverse_mapping[value] = key\n",
        "\n",
        "    train['Bean Type'] = train['Bean Type'].map(reverse_mapping)\n",
        "    train.loc[train['Bean Type'].isna(), 'Bean Type'] = np.random.choice(\n",
        "        list(mapping_bean.keys())[:3],\n",
        "        size=train['Bean Type'].isna().sum())\n",
        "\n",
        "    test['Bean Type'] = test['Bean Type'].map(reverse_mapping)\n",
        "    test.loc[test['Bean Type'].isna(), 'Bean Type'] = np.random.choice(\n",
        "        list(mapping_bean.keys())[:3],\n",
        "        size=test['Bean Type'].isna().sum())\n",
        "\n",
        "mapping_bean()"
      ],
      "metadata": {
        "trusted": true,
        "execution": {
          "iopub.status.busy": "2025-04-18T19:49:10.015773Z",
          "iopub.execute_input": "2025-04-18T19:49:10.016280Z",
          "iopub.status.idle": "2025-04-18T19:49:10.030877Z",
          "shell.execute_reply.started": "2025-04-18T19:49:10.016249Z",
          "shell.execute_reply": "2025-04-18T19:49:10.030066Z"
        },
        "id": "3anDnhHpenhf"
      },
      "outputs": [],
      "execution_count": null
    },
    {
      "cell_type": "code",
      "source": [
        "def mapping_country():\n",
        "    region_mapping = {\n",
        "        'North America': ['U.S.A.', 'Canada', 'Mexico', 'EET'],\n",
        "        'Europe': ['France', 'U.K.', 'Italy', 'Belgium', 'Germany', 'Switzerland',\n",
        "                   'Hungary', 'Denmark', 'Austria', 'Lithuania', 'Scotland', 'Ireland',\n",
        "                   'Netherlands', 'Poland', 'Spain'],\n",
        "        'South America': ['Ecuador', 'Colombia', 'Venezuela', 'Brazil', 'Peru',\n",
        "                         'Argentina', 'Costa Rica', 'Nicaragua', 'Guatemala'],\n",
        "        'Oceania': ['Australia', 'New Zealand', 'Fiji'],\n",
        "        'Asia': ['Japan', 'Vietnam', 'South Korea', 'Singapore', 'Philippines', 'Israel']\n",
        "    }\n",
        "\n",
        "    reverse_region_mapping = {}\n",
        "    for region, countries in region_mapping.items():\n",
        "        for country in countries:\n",
        "            reverse_region_mapping[country] = region\n",
        "\n",
        "    train['Company Location'] = train['Company Location'].map(reverse_region_mapping)\n",
        "    train.loc[train['Company Location'].isna(), 'Company Location'] = \"Other\"\n",
        "\n",
        "    test['Company Location'] = test['Company Location'].map(reverse_region_mapping)\n",
        "    test.loc[test['Company Location'].isna(), 'Company Location'] = \"Other\"\n",
        "\n",
        "mapping_country()"
      ],
      "metadata": {
        "trusted": true,
        "execution": {
          "iopub.status.busy": "2025-04-18T19:49:11.773578Z",
          "iopub.execute_input": "2025-04-18T19:49:11.773851Z",
          "iopub.status.idle": "2025-04-18T19:49:11.784325Z",
          "shell.execute_reply.started": "2025-04-18T19:49:11.773833Z",
          "shell.execute_reply": "2025-04-18T19:49:11.783173Z"
        },
        "id": "ZD_kBZVdenhf"
      },
      "outputs": [],
      "execution_count": null
    },
    {
      "cell_type": "code",
      "source": [
        "def mapping_Broad_Bean_Origin():\n",
        "    region_mapping = {\n",
        "        'South America': [\n",
        "            'Venezuela', 'Ecuador', 'Peru', 'Brazil', 'Bolivia',\n",
        "            'Colombia', 'Trinidad', 'Trinidad, Tobago', 'Trinidad-Tobago',\n",
        "            'Venezuela, Trinidad', 'Ecuador, Mad., PNG', 'Ghana & Madagascar',\n",
        "            'Ven, Trinidad, Ecuador', 'Venezuela/ Ghana', 'South America',\n",
        "            'Peru, Ecuador', 'Ecuador, Costa Rica', 'Peru(SMartin,Pangoa,nacional)'\n",
        "        ],\n",
        "        'Central America': [\n",
        "            'Nicaragua', 'Belize', 'Guatemala', 'Honduras', 'Panama',\n",
        "            'Costa Rica', 'Mexico', 'Domincan Republic', 'Dominican Republic',\n",
        "            'Haiti', 'Cuba', 'Jamaica', 'Grenada', 'St. Lucia', 'Martinique',\n",
        "            'Carribean', 'Africa, Carribean, C. Am.'\n",
        "        ],\n",
        "        'Africa': [\n",
        "            'Madagascar', 'Ghana', 'Tanzania', 'Congo', 'Uganda',\n",
        "            'Sao Tome', 'Sao Tome & Principe', 'West Africa', 'Togo',\n",
        "            'Cameroon', 'Ivory Coast', 'Burma'\n",
        "        ],\n",
        "        'Asia/Pacific': [\n",
        "            'Vietnam', 'Indonesia', 'Philippines', 'India', 'Papua New Guinea',\n",
        "            'Fiji', 'Vanuatu', 'Solomon Islands', 'Australia', 'Burma'\n",
        "        ]\n",
        "    }\n",
        "\n",
        "    # Создаем обратное отображение\n",
        "    reverse_mapping = {}\n",
        "    for region, countries in region_mapping.items():\n",
        "        for country in countries:\n",
        "            reverse_mapping[country] = region\n",
        "\n",
        "    train['Broad Bean Origin'] = train['Broad Bean Origin'].map(reverse_mapping)\n",
        "    train.loc[train['Broad Bean Origin'].isna(), 'Broad Bean Origin'] = \"Other\"\n",
        "\n",
        "    test['Broad Bean Origin'] = test['Broad Bean Origin'].map(reverse_mapping)\n",
        "    test.loc[test['Broad Bean Origin'].isna(), 'Broad Bean Origin'] = \"Other\"\n",
        "\n",
        "mapping_Broad_Bean_Origin()"
      ],
      "metadata": {
        "trusted": true,
        "execution": {
          "iopub.status.busy": "2025-04-18T19:49:13.436482Z",
          "iopub.execute_input": "2025-04-18T19:49:13.436824Z",
          "iopub.status.idle": "2025-04-18T19:49:13.448699Z",
          "shell.execute_reply.started": "2025-04-18T19:49:13.436796Z",
          "shell.execute_reply": "2025-04-18T19:49:13.447513Z"
        },
        "id": "yolCNZ8Uenhg"
      },
      "outputs": [],
      "execution_count": null
    },
    {
      "cell_type": "code",
      "source": [
        "def code_origin(text):\n",
        "    if pd.isna(text):\n",
        "        return text\n",
        "    parts = str(text).split(',', 1)\n",
        "    return parts[0].strip()\n",
        "\n",
        "train['Specific Bean Origin'] = train['Specific Bean Origin'].apply(code_origin)\n",
        "test['Specific Bean Origin'] = test['Specific Bean Origin'].apply(code_origin)"
      ],
      "metadata": {
        "trusted": true,
        "execution": {
          "iopub.status.busy": "2025-04-18T19:49:15.626785Z",
          "iopub.execute_input": "2025-04-18T19:49:15.627192Z",
          "iopub.status.idle": "2025-04-18T19:49:15.635619Z",
          "shell.execute_reply.started": "2025-04-18T19:49:15.627164Z",
          "shell.execute_reply": "2025-04-18T19:49:15.634398Z"
        },
        "id": "qYQuwIK7enhg"
      },
      "outputs": [],
      "execution_count": null
    },
    {
      "cell_type": "code",
      "source": [
        "train.drop_duplicates()"
      ],
      "metadata": {
        "trusted": true,
        "id": "_c2MitSEenhg"
      },
      "outputs": [],
      "execution_count": null
    },
    {
      "cell_type": "code",
      "source": [],
      "metadata": {
        "trusted": true,
        "id": "2U4tV8pHenhg"
      },
      "outputs": [],
      "execution_count": null
    },
    {
      "cell_type": "code",
      "source": [
        "train['Company'].value_counts().index.tolist()"
      ],
      "metadata": {
        "trusted": true,
        "id": "Dk4Gejeeenhg"
      },
      "outputs": [],
      "execution_count": null
    },
    {
      "cell_type": "code",
      "source": [
        "def convert_procent(procent_text):\n",
        "    procent_text = procent_text[0:len(procent_text)-1]\n",
        "    return procent_text\n",
        "\n",
        "train['Cocoa Percent'] = train['Cocoa Percent'].apply(convert_procent).astype('float64')\n",
        "test['Cocoa Percent'] = test['Cocoa Percent'].apply(convert_procent).astype('float64')\n"
      ],
      "metadata": {
        "trusted": true,
        "execution": {
          "iopub.status.busy": "2025-04-18T19:49:18.711589Z",
          "iopub.execute_input": "2025-04-18T19:49:18.711856Z",
          "iopub.status.idle": "2025-04-18T19:49:18.719818Z",
          "shell.execute_reply.started": "2025-04-18T19:49:18.711837Z",
          "shell.execute_reply": "2025-04-18T19:49:18.718693Z"
        },
        "id": "XUNla4vKenhg"
      },
      "outputs": [],
      "execution_count": null
    },
    {
      "cell_type": "code",
      "source": [
        "train"
      ],
      "metadata": {
        "trusted": true,
        "id": "_KQ2y4j2enhg"
      },
      "outputs": [],
      "execution_count": null
    },
    {
      "cell_type": "markdown",
      "source": [
        "# EDA:"
      ],
      "metadata": {
        "id": "XXYqmVJzenhg"
      }
    },
    {
      "cell_type": "code",
      "source": [
        "vis_train_data = train\n",
        "vis_test_data = test"
      ],
      "metadata": {
        "trusted": true,
        "id": "k8vzKAxFenhg"
      },
      "outputs": [],
      "execution_count": null
    },
    {
      "cell_type": "code",
      "source": [
        "import seaborn as sns\n",
        "import matplotlib.pyplot as plt"
      ],
      "metadata": {
        "trusted": true,
        "id": "qIWISDMKenhg"
      },
      "outputs": [],
      "execution_count": null
    },
    {
      "cell_type": "code",
      "source": [
        "cat_feature = [column for column in train.columns if train[column].dtype == \"object\"]\n",
        "value_feature = [column for column in train.columns if column not in cat_feature]"
      ],
      "metadata": {
        "trusted": true,
        "id": "-rPEkFf4enhg"
      },
      "outputs": [],
      "execution_count": null
    },
    {
      "cell_type": "code",
      "source": [
        "for feature in cat_feature:\n",
        "    if feature not in ['Company', 'Specific Bean Origin']:\n",
        "        sns.countplot(data =vis_train_data, x=feature)\n",
        "        sns.countplot(data =vis_test_data, x=feature)\n",
        "        plt.xticks(rotation=60)\n",
        "        plt.title(f\"Count in data set {feature}\")\n",
        "        plt.show()"
      ],
      "metadata": {
        "trusted": true,
        "id": "yl0cEZ_benhg"
      },
      "outputs": [],
      "execution_count": null
    },
    {
      "cell_type": "code",
      "source": [
        "sns.heatmap(vis_train_data[value_feature].corr(), cmap='coolwarm', annot=True)\n",
        "plt.title('Correlation Matrix')\n",
        "plt.show()"
      ],
      "metadata": {
        "trusted": true,
        "id": "o_vGvGkhenhg"
      },
      "outputs": [],
      "execution_count": null
    },
    {
      "cell_type": "code",
      "source": [
        "for feature in value_feature:\n",
        "    if feature != 'Rating':\n",
        "        plt.figure(figsize=(8, 5))\n",
        "\n",
        "        # Объединяем данные с пометкой источника\n",
        "        train_temp = vis_train_data[[feature]].copy()\n",
        "        train_temp['Dataset'] = 'Train'\n",
        "        test_temp = vis_test_data[[feature]].copy()\n",
        "        test_temp['Dataset'] = 'Test'\n",
        "        combined = pd.concat([train_temp, test_temp])\n",
        "\n",
        "        # Строим boxplot с разделением по Dataset\n",
        "        sns.boxplot(data=combined, x='Dataset', y=feature)\n",
        "        plt.title(f'Distribution comparison for {feature}')\n",
        "        plt.show()"
      ],
      "metadata": {
        "trusted": true,
        "id": "QgZSTKI8enhg"
      },
      "outputs": [],
      "execution_count": null
    },
    {
      "cell_type": "code",
      "source": [
        "sns.histplot(data=vis_train_data, x='Rating', kde=True)\n",
        "plt.show()"
      ],
      "metadata": {
        "trusted": true,
        "id": "4UAacTmFenhg"
      },
      "outputs": [],
      "execution_count": null
    },
    {
      "cell_type": "markdown",
      "source": [
        "# Config predict model"
      ],
      "metadata": {
        "id": "N4D6IVk3enhg"
      }
    },
    {
      "cell_type": "code",
      "source": [
        "X_train = train.drop(['Rating'], axis=1)\n",
        "Y_train = train['Rating']"
      ],
      "metadata": {
        "trusted": true,
        "execution": {
          "iopub.status.busy": "2025-04-18T19:49:24.691354Z",
          "iopub.execute_input": "2025-04-18T19:49:24.691638Z",
          "iopub.status.idle": "2025-04-18T19:49:24.697761Z",
          "shell.execute_reply.started": "2025-04-18T19:49:24.691618Z",
          "shell.execute_reply": "2025-04-18T19:49:24.696875Z"
        },
        "id": "epKhxdLoenhg"
      },
      "outputs": [],
      "execution_count": null
    },
    {
      "cell_type": "code",
      "source": [
        "X_test = test"
      ],
      "metadata": {
        "trusted": true,
        "execution": {
          "iopub.status.busy": "2025-04-18T19:49:27.231381Z",
          "iopub.execute_input": "2025-04-18T19:49:27.231681Z",
          "iopub.status.idle": "2025-04-18T19:49:27.236581Z",
          "shell.execute_reply.started": "2025-04-18T19:49:27.231658Z",
          "shell.execute_reply": "2025-04-18T19:49:27.235503Z"
        },
        "id": "Twt458PKenhg"
      },
      "outputs": [],
      "execution_count": null
    },
    {
      "cell_type": "code",
      "source": [
        "from sklearn.preprocessing import MinMaxScaler\n",
        "from sklearn.model_selection import cross_val_score\n",
        "from catboost import CatBoostRegressor\n",
        "import optuna\n"
      ],
      "metadata": {
        "trusted": true,
        "execution": {
          "iopub.status.busy": "2025-04-18T19:49:28.892187Z",
          "iopub.execute_input": "2025-04-18T19:49:28.892479Z",
          "iopub.status.idle": "2025-04-18T19:49:29.661811Z",
          "shell.execute_reply.started": "2025-04-18T19:49:28.892460Z",
          "shell.execute_reply": "2025-04-18T19:49:29.661104Z"
        },
        "id": "cN0P63Tvenhh"
      },
      "outputs": [],
      "execution_count": null
    },
    {
      "cell_type": "code",
      "source": [
        "scaler = MinMaxScaler()\n",
        "\n",
        "X_train[['REF', 'Cocoa Percent']] = scaler.fit_transform(X_train[['REF', 'Cocoa Percent']])\n",
        "X_test[['REF', 'Cocoa Percent']] = scaler.transform(X_test[['REF', 'Cocoa Percent']])"
      ],
      "metadata": {
        "trusted": true,
        "id": "dYqtT3j5enhh"
      },
      "outputs": [],
      "execution_count": null
    },
    {
      "cell_type": "code",
      "source": [
        "X_train"
      ],
      "metadata": {
        "trusted": true,
        "id": "70G_zqd9enhh"
      },
      "outputs": [],
      "execution_count": null
    },
    {
      "cell_type": "code",
      "source": [
        "def objective(trial):\n",
        "    max_depth = 4\n",
        "    learning_rate = trial.suggest_float(\"learning_rate\", 1e-5, 1, log=True)\n",
        "    n_estimators = trial.suggest_int(\"n_estimators\", 1200, 2000)\n",
        "    l2_leaf_reg = trial.suggest_float(\"l2_leaf_reg\", 1, 10)\n",
        "    random_strength = trial.suggest_float(\"random_strength\", 0, 10)\n",
        "    bagging_temperature = trial.suggest_float(\"bagging_temperature\", 0, 1)\n",
        "\n",
        "    model = CatBoostRegressor(\n",
        "        cat_features=[0, 1, 3, 5, 6, 7],\n",
        "        max_depth=max_depth,\n",
        "        learning_rate=learning_rate,\n",
        "        n_estimators=n_estimators,\n",
        "        l2_leaf_reg=l2_leaf_reg,\n",
        "        random_strength=random_strength,\n",
        "        bagging_temperature=bagging_temperature,\n",
        "        silent=True\n",
        "    )\n",
        "\n",
        "    score = cross_val_score(model, X_train, Y_train, cv=3, scoring=\"r2\", n_jobs=-1).mean()\n",
        "    return score\n",
        "\n",
        "study = optuna.create_study(direction=\"maximize\")\n",
        "study.optimize(objective, n_trials=100)"
      ],
      "metadata": {
        "trusted": true,
        "execution": {
          "execution_failed": "2025-04-18T19:47:51.261Z"
        },
        "id": "ajAPPAQUenhh"
      },
      "outputs": [],
      "execution_count": null
    },
    {
      "cell_type": "code",
      "source": [
        "  model = CatBoostRegressor(\n",
        "        cat_features=[0, 1, 3, 5, 6, 7],\n",
        "        max_depth=4,\n",
        "        learning_rate=0.02269448682394652,\n",
        "        n_estimators=1902,\n",
        "        l2_leaf_reg=4.692496362668251,\n",
        "        random_strength=9.999005359982192,\n",
        "        bagging_temperature=0.8045370382834742,\n",
        "        silent=True\n",
        "    )"
      ],
      "metadata": {
        "trusted": true,
        "execution": {
          "iopub.status.busy": "2025-04-18T19:50:17.349616Z",
          "iopub.execute_input": "2025-04-18T19:50:17.349931Z",
          "iopub.status.idle": "2025-04-18T19:50:17.354793Z",
          "shell.execute_reply.started": "2025-04-18T19:50:17.349910Z",
          "shell.execute_reply": "2025-04-18T19:50:17.353995Z"
        },
        "id": "OHsLY0Whenhh"
      },
      "outputs": [],
      "execution_count": null
    },
    {
      "cell_type": "code",
      "source": [
        "model.fit(X_train, Y_train)"
      ],
      "metadata": {
        "trusted": true,
        "execution": {
          "iopub.status.busy": "2025-04-18T19:50:19.216136Z",
          "iopub.execute_input": "2025-04-18T19:50:19.216764Z",
          "iopub.status.idle": "2025-04-18T19:50:23.094203Z",
          "shell.execute_reply.started": "2025-04-18T19:50:19.216735Z",
          "shell.execute_reply": "2025-04-18T19:50:23.093223Z"
        },
        "id": "Zt7H9P8Ienhh",
        "outputId": "590a7fa3-77a0-45ed-9abf-057ce4af3616"
      },
      "outputs": [
        {
          "execution_count": 16,
          "output_type": "execute_result",
          "data": {
            "text/plain": "<catboost.core.CatBoostRegressor at 0x7c936e4887d0>"
          },
          "metadata": {}
        }
      ],
      "execution_count": null
    },
    {
      "cell_type": "code",
      "source": [
        "pred = model.predict(X_test)"
      ],
      "metadata": {
        "trusted": true,
        "execution": {
          "iopub.status.busy": "2025-04-18T19:50:26.034602Z",
          "iopub.execute_input": "2025-04-18T19:50:26.034884Z",
          "iopub.status.idle": "2025-04-18T19:50:26.049096Z",
          "shell.execute_reply.started": "2025-04-18T19:50:26.034865Z",
          "shell.execute_reply": "2025-04-18T19:50:26.048072Z"
        },
        "id": "9ChsLiSZenhh"
      },
      "outputs": [],
      "execution_count": null
    },
    {
      "cell_type": "code",
      "source": [
        "X_test['id'] = np.arange(len(X_test))\n",
        "X_test['Rating'] = pred\n",
        "\n",
        "X_test[['id','Rating']].to_csv(\"submission.csv\", index=False)"
      ],
      "metadata": {
        "trusted": true,
        "execution": {
          "iopub.status.busy": "2025-04-18T19:50:29.107812Z",
          "iopub.execute_input": "2025-04-18T19:50:29.108291Z",
          "iopub.status.idle": "2025-04-18T19:50:29.124268Z",
          "shell.execute_reply.started": "2025-04-18T19:50:29.108258Z",
          "shell.execute_reply": "2025-04-18T19:50:29.123323Z"
        },
        "id": "tYvJEeIWenhh"
      },
      "outputs": [],
      "execution_count": null
    }
  ]
}